{
  "nbformat": 4,
  "nbformat_minor": 0,
  "metadata": {
    "colab": {
      "name": "LinkedListInPython.ipynb",
      "provenance": [],
      "authorship_tag": "ABX9TyMKLMyEZFmbBMZzRdfiNxiZ",
      "include_colab_link": true
    },
    "kernelspec": {
      "name": "python3",
      "display_name": "Python 3"
    },
    "language_info": {
      "name": "python"
    }
  },
  "cells": [
    {
      "cell_type": "markdown",
      "metadata": {
        "id": "view-in-github",
        "colab_type": "text"
      },
      "source": [
        "<a href=\"https://colab.research.google.com/github/Savanth283/DSA/blob/main/LinkedListInPython.ipynb\" target=\"_parent\"><img src=\"https://colab.research.google.com/assets/colab-badge.svg\" alt=\"Open In Colab\"/></a>"
      ]
    },
    {
      "cell_type": "markdown",
      "source": [
        "Insert Operations In Linked List "
      ],
      "metadata": {
        "id": "8PRpQpuQpNqA"
      }
    },
    {
      "cell_type": "code",
      "execution_count": null,
      "metadata": {
        "id": "Ax3upaxWpFL8"
      },
      "outputs": [],
      "source": [
        "class Node:\n",
        "  def __init__(self,dataval=None):\n",
        "    self.dataval = dataval\n",
        "    self.nextval = None\n",
        "  \n",
        "class SLinkedList:\n",
        "  def __init__(self):\n",
        "    self.headval=None\n",
        "    \n",
        "  def atBegin(self,newdata):  #adding a node at the begin \n",
        "    NewNode = Node(newdata)\n",
        "    NewNode.nextval = self.headval\n",
        "    self.headval = NewNode\n",
        "  \n",
        "  def atEnd(self,newdata1):  #adding a node at the end \n",
        "    NewNode1 = Node(newdata1)\n",
        "    if self.headval is None:\n",
        "      self.headval = NewNode1\n",
        "      return \n",
        "    laste = self.headval\n",
        "    while(laste.nextval):\n",
        "      laste = laste.nextval\n",
        "    laste.nextval = NewNode1\n",
        "   \n",
        "  def Inbetween(self,middle_node,newdata2):  #adding the node in between two nodes\n",
        "    if middle_node is None:\n",
        "      print(\"The middle_node is absent\")\n",
        "      return \n",
        "\n",
        "    NewNode2= Node(newdata2)\n",
        "    NewNode2.nextval = middle_node.nextval \n",
        "    middle_node.nextval = NewNode2\n",
        "\n",
        "  def listprint1(self):        #prinitng the linked List\n",
        "    printval = self.headval\n",
        "    while printval is not None:\n",
        "      print(printval.dataval)\n",
        "      printval = printval.nextval\n",
        " \n",
        "\n",
        "list = SLinkedList()\n",
        "list.headval = Node(input())\n",
        "e2 = Node(input())\n",
        "e3 = Node(input())\n",
        "\n",
        "list.headval.nextval = e2 \n",
        "e2.nextval = e3\n",
        "\n",
        "list.atBegin(\"13\")\n",
        "list.atEnd(\"25\")\n",
        "list.Inbetween(list.headval.nextval,\"22\")\n",
        "list.listprint1()\n"
      ]
    }
  ]
}