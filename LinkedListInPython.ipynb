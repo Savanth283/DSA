{
  "nbformat": 4,
  "nbformat_minor": 0,
  "metadata": {
    "colab": {
      "name": "LinkedListInPython.ipynb",
      "provenance": [],
      "authorship_tag": "ABX9TyPZF6wXvzc+oYEXXC/WovqM",
      "include_colab_link": true
    },
    "kernelspec": {
      "name": "python3",
      "display_name": "Python 3"
    },
    "language_info": {
      "name": "python"
    }
  },
  "cells": [
    {
      "cell_type": "markdown",
      "metadata": {
        "id": "view-in-github",
        "colab_type": "text"
      },
      "source": [
        "<a href=\"https://colab.research.google.com/github/Savanth283/DSA/blob/main/LinkedListInPython.ipynb\" target=\"_parent\"><img src=\"https://colab.research.google.com/assets/colab-badge.svg\" alt=\"Open In Colab\"/></a>"
      ]
    },
    {
      "cell_type": "markdown",
      "source": [
        "Insert Operations In Linked List "
      ],
      "metadata": {
        "id": "8PRpQpuQpNqA"
      }
    },
    {
      "cell_type": "code",
      "execution_count": 15,
      "metadata": {
        "colab": {
          "base_uri": "https://localhost:8080/"
        },
        "id": "Ax3upaxWpFL8",
        "outputId": "ec499600-0d96-42f0-dd35-0b24aa3f55a0"
      },
      "outputs": [
        {
          "output_type": "stream",
          "name": "stdout",
          "text": [
            "14\n",
            "15\n",
            "16\n",
            "\n",
            "Linked List after data is added  \n",
            "13\n",
            "14\n",
            "22\n",
            "15\n",
            "16\n",
            "25\n"
          ]
        }
      ],
      "source": [
        "class Node:\n",
        "  def __init__(self,dataval=None):\n",
        "    self.dataval = dataval\n",
        "    self.nextval = None\n",
        "  \n",
        "class SLinkedList:\n",
        "  def __init__(self):\n",
        "    self.headval=None\n",
        "    \n",
        "  def atBegin(self,newdata):  #adding a node at the begin \n",
        "    NewNode = Node(newdata)\n",
        "    NewNode.nextval = self.headval\n",
        "    self.headval = NewNode\n",
        "  \n",
        "  def atEnd(self,newdata1):  #adding a node at the end \n",
        "    NewNode1 = Node(newdata1)\n",
        "    if self.headval is None:\n",
        "      self.headval = NewNode1\n",
        "      return \n",
        "    laste = self.headval\n",
        "    while(laste.nextval):\n",
        "      laste = laste.nextval\n",
        "    laste.nextval = NewNode1\n",
        "   \n",
        "  def Inbetween(self,middle_node,newdata2):  #adding the node in between two nodes\n",
        "    if middle_node is None:\n",
        "      print(\"The middle_node is absent\")\n",
        "      return \n",
        "\n",
        "    NewNode2= Node(newdata2)\n",
        "    NewNode2.nextval = middle_node.nextval \n",
        "    middle_node.nextval = NewNode2\n",
        "\n",
        "  def listprint1(self):        #prinitng the linked List\n",
        "    printval = self.headval\n",
        "    while printval is not None:\n",
        "      print(printval.dataval)\n",
        "      printval = printval.nextval\n",
        " \n",
        "\n",
        "list = SLinkedList()\n",
        "list.headval = Node(input())\n",
        "e2 = Node(input())\n",
        "e3 = Node(input())\n",
        "\n",
        "list.headval.nextval = e2 \n",
        "e2.nextval = e3\n",
        "\n",
        "list.atBegin(\"13\")  #adding the value at the begin\n",
        "list.atEnd(\"25\")    #adding the value at the end \n",
        "list.Inbetween(list.headval.nextval,\"22\")   #adding the value in between the 1st node and 2nd node \n",
        "print(\"\\nLinked List after data is added  \")\n",
        "list.listprint1()\n"
      ]
    },
    {
      "cell_type": "markdown",
      "source": [
        " Deleting an element in Linked List \n"
      ],
      "metadata": {
        "id": "VS0sh3LgqNeK"
      }
    },
    {
      "cell_type": "code",
      "source": [
        "class Node:\n",
        "  def __init__(self,data=None):\n",
        "    self.data = data \n",
        "    self.next = next \n",
        "\n",
        "class LinkedList:\n",
        "  def __init__(self):\n",
        "    self.head = None\n",
        "\n",
        "  def push(self,new_data):  #pushing the elements into the Linked List \n",
        "    new_node = Node(new_data)\n",
        "    new_node.next = self.head\n",
        "    self.head = new_node\n",
        "  \n",
        "  def deleteNode(self,deldata):  #deleting the element in the Linked List \n",
        "    temp = self.head\n",
        "\n",
        "    if (temp is not None):\n",
        "      if (temp.data == deldata):\n",
        "        self.head = temp.next\n",
        "        temp = None\n",
        "        return \n",
        "    while (temp is not None):\n",
        "      if temp.data == deldata:\n",
        "        break\n",
        "      prev = temp\n",
        "      temp = temp.next \n",
        "\n",
        "    if (temp == None):\n",
        "      return \n",
        "    prev.next = temp.next \n",
        "    temp = None\n",
        "  \n",
        "  def listprint1(self):        #prinitng the linked List\n",
        "    printval = self.head\n",
        "    while printval is not None:\n",
        "      print(printval.data)\n",
        "      printval = printval.next \n",
        "\n",
        "list = LinkedList()\n",
        "list.push(1)\n",
        "list.push(2)\n",
        "list.push(3)\n",
        "list.push(4)\n",
        "\n",
        "list.listprint1()\n",
        "list.deleteNode(2) #giving the value that is supposed to deleted\n",
        "print(\"\\nLinkedList after the data is deleted\")\n",
        "list.listprint1() \n",
        "\n",
        "\n"
      ],
      "metadata": {
        "colab": {
          "base_uri": "https://localhost:8080/"
        },
        "id": "sug64YEIqX78",
        "outputId": "064c6e8d-d16c-47b7-f528-fff41df84ef7"
      },
      "execution_count": 12,
      "outputs": [
        {
          "output_type": "stream",
          "name": "stdout",
          "text": [
            "4\n",
            "3\n",
            "2\n",
            "1\n",
            "\n",
            "LinkedList after the data is deleted\n",
            "4\n",
            "3\n",
            "1\n"
          ]
        }
      ]
    },
    {
      "cell_type": "code",
      "source": [
        ""
      ],
      "metadata": {
        "id": "kQMHrPt9xHhN"
      },
      "execution_count": null,
      "outputs": []
    }
  ]
}