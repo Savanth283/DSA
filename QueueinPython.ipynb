{
  "nbformat": 4,
  "nbformat_minor": 0,
  "metadata": {
    "colab": {
      "name": "QueueinPython.ipynb",
      "provenance": [],
      "authorship_tag": "ABX9TyNauH6liYji4/i6Ol9WmVCy",
      "include_colab_link": true
    },
    "kernelspec": {
      "name": "python3",
      "display_name": "Python 3"
    },
    "language_info": {
      "name": "python"
    }
  },
  "cells": [
    {
      "cell_type": "markdown",
      "metadata": {
        "id": "view-in-github",
        "colab_type": "text"
      },
      "source": [
        "<a href=\"https://colab.research.google.com/github/Savanth283/DSA/blob/main/QueueinPython.ipynb\" target=\"_parent\"><img src=\"https://colab.research.google.com/assets/colab-badge.svg\" alt=\"Open In Colab\"/></a>"
      ]
    },
    {
      "cell_type": "markdown",
      "source": [
        "Queue is a data strucutre which consists of the following operations \n",
        "\n",
        "1. Enqueue - Adding an element to the queue || Time complexity - O(n) \n",
        "2. Dequeue - Deleting an element from the queue || Time complexity - O(n) \n",
        "3. Front - Get the front element || Time complexity - O(n)  \n",
        "4. Rear - Get the rear/last element || Time complexity - O(n) "
      ],
      "metadata": {
        "id": "qBIJasorwWuH"
      }
    },
    {
      "cell_type": "code",
      "execution_count": 1,
      "metadata": {
        "colab": {
          "base_uri": "https://localhost:8080/"
        },
        "id": "u4FoyJItwDXx",
        "outputId": "97c609df-5cdf-4484-d495-1e30653363ed"
      },
      "outputs": [
        {
          "output_type": "stream",
          "name": "stdout",
          "text": [
            "The intial queue ['24', '25', '26', '27']\n",
            "After FIFO approach  ['25', '26', '27']\n"
          ]
        }
      ],
      "source": [
        "#basic implementation of queue using List in Python \n",
        "queue = [] \n",
        "\n",
        "queue.append('24')\n",
        "queue.append('25')\n",
        "queue.append('26')\n",
        "queue.append('27')\n",
        "\n",
        "print(\"The intial queue\",queue)\n",
        "\n",
        "queue.pop(0)\n",
        "\n",
        "print(\"After FIFO approach \",queue)"
      ]
    },
    {
      "cell_type": "code",
      "source": [
        "#implementation of queue using collections in Python \n",
        "\n",
        "from collections import deque\n",
        "\n",
        "q = deque() \n",
        "\n",
        "q.append('a')\n",
        "q.append('b')\n",
        "q.append('c')\n",
        "q.append('d')\n",
        "\n",
        "print(\"The intial queue\",q)\n",
        "\n",
        "print(\"Elements deleted from the queue\")\n",
        "print(\"Popped {} from queue\".format(q.popleft()))\n",
        "print(\"Popped {} from queue\".format(q.popleft()))\n",
        "\n",
        "print(\"Queue after popping elements \",q)"
      ],
      "metadata": {
        "colab": {
          "base_uri": "https://localhost:8080/"
        },
        "id": "Dwgt5G3jwP86",
        "outputId": "f62ed177-41bf-46bc-c5da-f7022929973f"
      },
      "execution_count": 6,
      "outputs": [
        {
          "output_type": "stream",
          "name": "stdout",
          "text": [
            "The intial queue deque(['a', 'b', 'c', 'd'])\n",
            "Elements deleted from the queue\n",
            "Popped a from queue\n",
            "Popped b from queue\n",
            "Queue after popping elements  deque(['c', 'd'])\n"
          ]
        }
      ]
    },
    {
      "cell_type": "markdown",
      "source": [
        " Queue Implementation in Python using Linked List "
      ],
      "metadata": {
        "id": "SSIXBDRH4Ogh"
      }
    },
    {
      "cell_type": "code",
      "source": [
        "class Node:\n",
        "  def __init__(self,data):\n",
        "    self.data = data\n",
        "    self.next = None \n",
        "\n",
        "class QueueLL:\n",
        "  def __init__(self):\n",
        "    self.front = self.rear = None\n",
        "  \n",
        "  def isEmpty(self):\n",
        "    return self.front == None\n",
        "\n",
        "  def EnQueue(self,item):\n",
        "    temp = Node(item)\n",
        "    if self.rear == None:\n",
        "      self.front = self.rear = temp\n",
        "      return \n",
        "    self.rear.next = temp\n",
        "    self.rear = temp\n",
        "  \n",
        "  def DeQueue(self):\n",
        "    if self.isEmpty():\n",
        "      return \n",
        "    temp = self.front \n",
        "    self.front = temp.next \n",
        "\n",
        "    if (self.front == None):\n",
        "      self.rear = None\n",
        "\n",
        "if __name__=='__main__':\n",
        "  q = QueueLL()\n",
        "  q.EnQueue(int(input()))\n",
        "  q.EnQueue(int(input()))\n",
        "  q.EnQueue(int(input()))\n",
        "  q.EnQueue(int(input()))\n",
        "  q.EnQueue(int(input()))\n",
        "\n",
        "  q.DeQueue()\n",
        "  q.DeQueue()\n",
        "  q.DeQueue()\n",
        "\n",
        "  print(\"Queue front \" + str(q.front.data))\n",
        "  print(\"Queue rear \" + str(q.rear.data))\n",
        "\n",
        "\n",
        "\n"
      ],
      "metadata": {
        "colab": {
          "base_uri": "https://localhost:8080/"
        },
        "id": "Ze6OfCWB3qE7",
        "outputId": "edaf1c55-2be3-4d1a-bb2d-0944828be580"
      },
      "execution_count": 23,
      "outputs": [
        {
          "output_type": "stream",
          "name": "stdout",
          "text": [
            "23\n",
            "24\n",
            "25\n",
            "26\n",
            "27\n",
            "Queue front 26\n",
            "Queue rear 27\n"
          ]
        }
      ]
    },
    {
      "cell_type": "code",
      "source": [
        ""
      ],
      "metadata": {
        "id": "ty1cPX9F69B8"
      },
      "execution_count": null,
      "outputs": []
    }
  ]
}