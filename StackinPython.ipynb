{
  "nbformat": 4,
  "nbformat_minor": 0,
  "metadata": {
    "colab": {
      "name": "StackinPython.ipynb",
      "provenance": [],
      "collapsed_sections": [],
      "authorship_tag": "ABX9TyNRM2gKG7QyznMNdDgNlvJB",
      "include_colab_link": true
    },
    "kernelspec": {
      "name": "python3",
      "display_name": "Python 3"
    },
    "language_info": {
      "name": "python"
    }
  },
  "cells": [
    {
      "cell_type": "markdown",
      "metadata": {
        "id": "view-in-github",
        "colab_type": "text"
      },
      "source": [
        "<a href=\"https://colab.research.google.com/github/Savanth283/DSA/blob/main/StackinPython.ipynb\" target=\"_parent\"><img src=\"https://colab.research.google.com/assets/colab-badge.svg\" alt=\"Open In Colab\"/></a>"
      ]
    },
    {
      "cell_type": "markdown",
      "source": [
        "Stack implementation in Python through the following ways \n",
        "1. Stack through LinkedList \n",
        "2. Stack through Array \n",
        "\n",
        "for the following methods \n",
        "1. Push() \n",
        "2. Pop() \n",
        "3. Peek() \n",
        "4. isEmpty() \n",
        "5. getSize()\n"
      ],
      "metadata": {
        "id": "5GHu3DaRZtYf"
      }
    },
    {
      "cell_type": "markdown",
      "source": [
        "Stack implementation through LinkedList "
      ],
      "metadata": {
        "id": "5G1fG5VZZ-38"
      }
    },
    {
      "cell_type": "code",
      "execution_count": 14,
      "metadata": {
        "colab": {
          "base_uri": "https://localhost:8080/"
        },
        "id": "bYpVW6fVZqkY",
        "outputId": "29c59056-fc1e-4d27-a263-c5302534b20c"
      },
      "outputs": [
        {
          "output_type": "stream",
          "name": "stdout",
          "text": [
            "The elements in the stack are 10->9->8->7->6->5->4->3->2-> \n",
            "Pop : 10\n",
            "Pop : 9\n",
            "Pop : 8\n",
            "Pop : 7\n",
            "Pop : 6\n",
            "After popping the elements 5->4->3->2->\n",
            "5 is the top element in the stack\n"
          ]
        }
      ],
      "source": [
        "class Node:\n",
        "  def __init__(self,value=None,next=None):\n",
        "    self.value = value \n",
        "    self.next = next\n",
        "\n",
        "class StackLL:\n",
        "  def __init__(self):\n",
        "    self.head = Node(\"head\") \n",
        "    self.size = 0 \n",
        "\n",
        "  def __str__(self):\n",
        "    curr = self.head.next \n",
        "    out = '' \n",
        "    while curr:\n",
        "      out += str(curr.value) + '->'\n",
        "      curr = curr.next \n",
        "    return out[:-3]\n",
        "  \n",
        "  def getSize(self):\n",
        "    return self.size \n",
        "  \n",
        "  def isEmpty(self):\n",
        "    return self.size == 0 \n",
        "  \n",
        "  def peek(self):\n",
        "    if self.isEmpty():\n",
        "      print(\"Peeking from a empty stack\")\n",
        "    return self.head.next.value \n",
        "  \n",
        "  def push(self,value):\n",
        "    NewNode = Node(value)\n",
        "    NewNode.next = self.head.next \n",
        "    self.head.next = NewNode\n",
        "    self.size += 1\n",
        "  \n",
        "  def pop(self,value):\n",
        "    if self.isEmpty():\n",
        "      print(\"This is an empty stack\")\n",
        "    remove = self.head.next\n",
        "    self.head.next = self.head.next.next \n",
        "    self.size +=1 \n",
        "    return remove.value \n",
        "\n",
        "if __name__ == \"__main__\":\n",
        "  stack = StackLL() \n",
        "  for i in range(1,11):\n",
        "    stack.push(i)\n",
        "  print(\"The elements in the stack are {} \".format(stack))\n",
        "  \n",
        "  for i in range(1,6):\n",
        "    remove = stack.pop(i)\n",
        "    print(f\"Pop : {remove}\")\n",
        "  print(\"After popping the elements {}\".format(stack))\n",
        "\n",
        "  print(\"{} is the top element in the stack\".format(stack.peek()))\n"
      ]
    },
    {
      "cell_type": "markdown",
      "source": [
        "Stack implementation through Array"
      ],
      "metadata": {
        "id": "dcSNBIKC8k1W"
      }
    },
    {
      "cell_type": "code",
      "source": [
        "from sys import maxsize\n",
        "\n",
        "def createStack():\n",
        "  stack = [] \n",
        "  return stack\n",
        "\n",
        "def isEmpty(self):\n",
        "  return len(stack) == 0 \n",
        "\n",
        "def push(self,val):\n",
        "  stack.append(val)\n",
        "  print(val+ \" Pushed to the stack\")\n",
        "\n",
        "def pop(self):\n",
        "  if (isEmpty(stack)):\n",
        "    return str(-maxsize -1)\n",
        "  return stack.pop()\n",
        "\n",
        "def peek(self):\n",
        "  if (isEmpty(stack)):\n",
        "    return str(-maxsize -1)\n",
        "  return stack[len(stack)-1]\n",
        "\n",
        "stack = createStack() \n",
        "push(stack,str('23'))\n",
        "push(stack,str('24'))\n",
        "push(stack,str('25'))\n",
        "push(stack,str('26'))\n",
        "print(\"The elements in the stack are {} \".format(stack))\n",
        "print(pop(stack) + \" Popped from stack\")\n",
        "print(\"Stack after popping the elements {} \".format(stack))\n",
        "print(peek(stack) + \"  Is the top Element of the stack\")\n",
        "  \n"
      ],
      "metadata": {
        "id": "L0jqrg0lb8XT",
        "colab": {
          "base_uri": "https://localhost:8080/"
        },
        "outputId": "6c7fff2a-f76d-4454-dddd-3212842b1f91"
      },
      "execution_count": 23,
      "outputs": [
        {
          "output_type": "stream",
          "name": "stdout",
          "text": [
            "23 Pushed to the stack\n",
            "24 Pushed to the stack\n",
            "25 Pushed to the stack\n",
            "26 Pushed to the stack\n",
            "The elements in the stack are ['23', '24', '25', '26'] \n",
            "26 Popped from stack\n",
            "Stack after popping the elements ['23', '24', '25'] \n",
            "25  Is the top Element of the stack\n"
          ]
        }
      ]
    },
    {
      "cell_type": "code",
      "source": [
        ""
      ],
      "metadata": {
        "id": "OHi4BPL-B6k0"
      },
      "execution_count": null,
      "outputs": []
    }
  ]
}